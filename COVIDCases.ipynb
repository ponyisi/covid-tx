{
 "cells": [
  {
   "cell_type": "code",
   "execution_count": null,
   "metadata": {},
   "outputs": [],
   "source": [
    "import pandas as pd"
   ]
  },
  {
   "cell_type": "code",
   "execution_count": null,
   "metadata": {},
   "outputs": [],
   "source": [
    "tbl = pd.read_excel('https://www.dshs.texas.gov/coronavirus/TexasCOVID19DailyCountyCaseCountData.xlsx', skiprows=[0,1]+list(range(257,270)))\n",
    "#tbl = pd.read_excel('/home/ponyisi/Documents/20200614_covid/Texas COVID-19 Case Count Data by County.xlsx', skiprows=[0,1]+list(range(257,270)))\n",
    "def mapper(x):\n",
    "    if not x.startswith('Cases'): return x\n",
    "    return x[-5:]\n",
    "tbl=tbl.rename(columns=mapper)\n",
    "tbl=tbl.set_index('County Name')\n",
    "tblpop = tbl[['Population']]\n",
    "#tblpop=tblpop.set_index('County Name')\n",
    "tblcases = tbl.loc[:,'03-04':]\n",
    "#tblcases=tblcases.transpose()"
   ]
  },
  {
   "cell_type": "code",
   "execution_count": null,
   "metadata": {},
   "outputs": [],
   "source": [
    "# single day new cases\n",
    "tbl2=tblcases.diff(axis=1).loc[:,'03-05':]\n",
    "# 7 day rolling average (to smooth weekly effects) then exponential moving average (for smoothing)\n",
    "tbl3=tbl2.rolling(7,axis=1).mean().loc[:,'03-13':].ewm(halflife=1,axis=1).mean()\n",
    "# cases per 100000 population\n",
    "tbl4=tbl3.div(tblpop['Population'], axis=0)*100000"
   ]
  },
  {
   "cell_type": "code",
   "execution_count": null,
   "metadata": {},
   "outputs": [],
   "source": [
    "from urllib.request import urlopen\n",
    "import json\n",
    "with urlopen('https://raw.githubusercontent.com/plotly/datasets/master/geojson-counties-fips.json') as response:\n",
    "    counties = json.load(response)"
   ]
  },
  {
   "cell_type": "code",
   "execution_count": null,
   "metadata": {},
   "outputs": [],
   "source": [
    "print(list(_ for _ in counties['features'] if (_['id'].startswith('48') and _['properties']['NAME'] == 'Travis')))"
   ]
  },
  {
   "cell_type": "code",
   "execution_count": null,
   "metadata": {
    "scrolled": true
   },
   "outputs": [],
   "source": [
    "counties['features'][0]"
   ]
  },
  {
   "cell_type": "code",
   "execution_count": null,
   "metadata": {},
   "outputs": [],
   "source": [
    "import plotly.express as px\n",
    "import copy\n",
    "txcounties=copy.copy(counties)\n",
    "txcounties['features']=[_ for _ in counties['features'] if _[\"id\"].startswith('48')]\n",
    "fig = px.choropleth(tbl4, geojson=txcounties, color=tbl4.columns[-1],\n",
    "                    locations=tbl4.index, featureidkey=\"properties.NAME\",\n",
    "                    projection=\"mercator\", range_color=[0,25]\n",
    "                   )\n",
    "fig.update_geos(fitbounds=\"locations\", visible=True)\n",
    "fig.update_layout(margin={\"r\":0,\"t\":0,\"l\":0,\"b\":0})\n",
    "fig.show()"
   ]
  },
  {
   "cell_type": "code",
   "execution_count": null,
   "metadata": {},
   "outputs": [],
   "source": [
    "# reformat for animation\n",
    "exploded=tbl4.reset_index().melt(id_vars=['County Name'], var_name='Date', value_name='Rate')\n",
    "fig = px.choropleth(exploded, geojson=txcounties, color=\"Rate\",\n",
    "                    locations='County Name', featureidkey=\"properties.NAME\",\n",
    "                    projection=\"mercator\", range_color=[0,15],\n",
    "                    animation_group='County Name', animation_frame='Date',\n",
    "                    labels={'Rate':'Daily new cases/100,000 pop'},\n",
    "                    width=800, height=700\n",
    "                   )\n",
    "fig.update_geos(fitbounds=\"locations\", visible=False)\n",
    "fig.update_layout(margin={\"r\":0,\"t\":0,\"l\":0,\"b\":0})\n",
    "fig.show()"
   ]
  },
  {
   "cell_type": "code",
   "execution_count": null,
   "metadata": {},
   "outputs": [],
   "source": [
    "# single day change in 7-day rolling average of new cases\n",
    "tbl3der=tbl3.diff(axis=1).loc[:,'03-14':]\n",
    "# change in cases per 100000 population\n",
    "tbl4der=tbl3der.div(tblpop['Population'], axis=0)*100000\n",
    "# reformatted for plotting\n",
    "explodedder=tbl4der.reset_index().melt(id_vars=['County Name'], var_name='Date', value_name='Rate')"
   ]
  },
  {
   "cell_type": "code",
   "execution_count": null,
   "metadata": {},
   "outputs": [],
   "source": [
    "figder = px.choropleth(explodedder, geojson=txcounties, color=\"Rate\",\n",
    "                    locations='County Name', featureidkey=\"properties.NAME\",\n",
    "                    projection=\"mercator\", range_color=[-5,5],\n",
    "                       #color_continuous_midpoint=0.,\n",
    "                    animation_group='County Name', animation_frame='Date',\n",
    "                    labels={'Rate':'Daily case change'},\n",
    "                    color_continuous_scale='rdbu_r',\n",
    "                    width=800, height=700\n",
    "                   )\n",
    "figder.update_geos(fitbounds=\"locations\", visible=False)\n",
    "figder.update_layout(margin={\"r\":0,\"t\":0,\"l\":0,\"b\":0})\n",
    "figder.show()"
   ]
  },
  {
   "cell_type": "code",
   "execution_count": null,
   "metadata": {},
   "outputs": [],
   "source": [
    "# absolute number of daily cases (7-day rolling)\n",
    "exploded_tot=tbl3.reset_index().melt(id_vars=['County Name'], var_name='Date', value_name='Rate')\n",
    "figtot = px.choropleth(exploded_tot, geojson=txcounties, color=\"Rate\",\n",
    "                    locations='County Name', featureidkey=\"properties.NAME\",\n",
    "                    projection=\"mercator\", range_color=[0,350],\n",
    "                    animation_group='County Name', animation_frame='Date',\n",
    "                    labels={'Rate':'Daily new cases'},\n",
    "                    width=800, height=700\n",
    "                   )\n",
    "figtot.update_geos(fitbounds=\"locations\", visible=False)\n",
    "figtot.update_layout(margin={\"r\":0,\"t\":0,\"l\":0,\"b\":0})\n",
    "figtot.show()"
   ]
  }
 ],
 "metadata": {
  "kernelspec": {
   "display_name": "Python 3",
   "language": "python",
   "name": "python3"
  },
  "language_info": {
   "codemirror_mode": {
    "name": "ipython",
    "version": 3
   },
   "file_extension": ".py",
   "mimetype": "text/x-python",
   "name": "python",
   "nbconvert_exporter": "python",
   "pygments_lexer": "ipython3",
   "version": "3.8.2"
  }
 },
 "nbformat": 4,
 "nbformat_minor": 4
}
